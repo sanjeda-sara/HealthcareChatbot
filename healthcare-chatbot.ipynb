{
  "nbformat": 4,
  "nbformat_minor": 0,
  "metadata": {
    "colab": {
      "provenance": []
    },
    "kernelspec": {
      "name": "python3",
      "display_name": "Python 3"
    },
    "language_info": {
      "name": "python"
    }
  },
  "cells": [
    {
      "cell_type": "code",
      "execution_count": 2,
      "metadata": {
        "id": "kd_LCL4rtivZ"
      },
      "outputs": [],
      "source": [
        "import numpy as np\n",
        "import nltk\n",
        "import string\n",
        "import random\n",
        "import random"
      ]
    },
    {
      "cell_type": "code",
      "source": [
        "from google.colab import drive\n",
        "drive.mount('/content/drive')"
      ],
      "metadata": {
        "colab": {
          "base_uri": "https://localhost:8080/"
        },
        "id": "1Gb6OTQstvcT",
        "outputId": "67e1132e-2cb6-4620-9286-934db46154b1"
      },
      "execution_count": 1,
      "outputs": [
        {
          "output_type": "stream",
          "name": "stdout",
          "text": [
            "Mounted at /content/drive\n"
          ]
        }
      ]
    },
    {
      "cell_type": "code",
      "source": [
        "f = open('/content/drive/MyDrive/product-recommendation/data-new.txt', 'r', errors = 'ignore')\n",
        "raw_doc = f.read()"
      ],
      "metadata": {
        "id": "pHKI6rket3-P"
      },
      "execution_count": 4,
      "outputs": []
    },
    {
      "cell_type": "code",
      "source": [
        "raw_doc = raw_doc.lower()\n",
        "nltk.download('punkt')\n",
        "nltk.download('wordnet')\n",
        "nltk.download('omw-1.4')\n",
        "sentence_tokens = nltk.sent_tokenize(raw_doc)\n",
        "word_tokens = nltk.word_tokenize(raw_doc)"
      ],
      "metadata": {
        "colab": {
          "base_uri": "https://localhost:8080/"
        },
        "id": "DxgkjItCuAuK",
        "outputId": "fd0d116c-700e-4fa9-87f6-c30cc528a796"
      },
      "execution_count": 5,
      "outputs": [
        {
          "output_type": "stream",
          "name": "stderr",
          "text": [
            "[nltk_data] Downloading package punkt to /root/nltk_data...\n",
            "[nltk_data]   Unzipping tokenizers/punkt.zip.\n",
            "[nltk_data] Downloading package wordnet to /root/nltk_data...\n",
            "[nltk_data] Downloading package omw-1.4 to /root/nltk_data...\n"
          ]
        }
      ]
    },
    {
      "cell_type": "code",
      "source": [
        "raw_doc"
      ],
      "metadata": {
        "colab": {
          "base_uri": "https://localhost:8080/",
          "height": 140
        },
        "id": "-IPoWpXGu9Eo",
        "outputId": "7091cfdb-195b-4fce-93da-058cbe044b86"
      },
      "execution_count": 6,
      "outputs": [
        {
          "output_type": "execute_result",
          "data": {
            "text/plain": [
              "\"allergies\\nallergies are an immune response triggered by allergens, an ordinarily harmful substance.\\n\\ncauses\\npeople with allergies have especially sensitive immune systems that react when they contact allergens.\\n\\ncommon allergens include:\\n\\nfoods (nuts, eggs, milk, soy, shellfish, wheat)\\npollen\\nmold\\nlatex\\npet dander\\nsymptoms\\nbecause there are so many possible causes, the symptoms of allergies vary widely. airborne allergens, like pollen and pet dander, are likely to cause:\\n\\neye irritation\\nrunny nose\\nstuffy nose\\npuffy, watery eyes\\nsneezing\\ninflamed, itchy nose and throat\\nallergens that are consumed, like foods or certain medications, can cause:\\n\\nhives or skin rashes\\ngastrointestinal distress (diarrhea, nausea, vomiting, excessing gas, indigestion)\\ntingling or swelling of the lips, face, or tongue\\nitchiness\\ndifficulty breathing or wheezing\\nfainting/ or lightheadedness\\nin cases of a more extreme response, called anaphylaxis, symptoms are severe and life-threatening.\\n\\ntreatment\\nthe easiest and most effective way to treat allergies is to get rid of or avoid the cause. where unavoidable, some lifestyle changes can reduce your allergy symptoms. for example, if you are allergic to dust mites, make an effort to keep your room clean and free of dust by frequent vacuuming, dusting, and washing of bedding.\\n\\nfor pollen allergies, avoid being outside when pollen counts are high and keep the windows to your room shut.\\n\\nbecause it is very difficult to avoid certain allergens, medication may be necessary to lessen symptoms caused by allergens, other than food and drugs.\\n\\nantihistamines: help relieve or prevent the sneezing, itchy eyes and throat, and postnasal drip that the allergen may cause. they are sold in many forms (i.e., pills, nasal sprays, liquids, etc.).\\ndecongestants: help reduce congestion in your nasal membranes by narrowing the blood vessels that supply those membranes. they can be purchased in several forms (liquid, pill or nasal spray) and may be used with an antihistamine or alone to treat nasal swelling related to allergies.  limit use of nasal sprays to fewer than two to three days in a row because prolonged use can cause the nasal membrane swells, resulting in severe nasal obstruction. \\nanti-inflammatory agents (e.g., corticosteroid): help reduce swelling of the airways, nasal congestion and sneezing. typically taken as a nasal spray. some people report that corticosteroids irritate nasal passages.\\nallergy shots: recommended for serious allergy sufferers, this series of shots are administered by a healthcare provider and contain small amounts of the allergens that cause you discomfort. the goal of allergy shots is to enable your immune system to build better defenses against allergens.\\nsome allergies go away with age, but others are lifelong.\\n\\nprevention\\navoid the outdoors between 5-10 a.m. and save outside activities for late afternoon or after a heavy rain, when pollen levels are lower.\\nkeep windows in your living spaces closed to lower exposure to pollen.\\nto keep cool, use air conditioners and avoid using window and attic fans.\\nwear a medical alert bracelet or other means to communicate to others about your allergy in case of a reaction.\\ndiscuss a prescription for epinephrine (e.g., epipen) with your healthcare provider, if you have risk of serious allergic reaction.\\nreview product labels carefully before buying or consuming any item\\nknow what you are eating or drinking.\\ncold and flu\\ncolds and influenza (flu) are the most common illnesses among college students. \\n\\ncauses\\nboth of these illnesses are upper respiratory infections, meaning they involve your nose, throat, and lungs. viruses cause both colds and flu by increasing inflammation of the membranes in the nose and throat.\\n\\nmost transmission of these viruses occurs via hand-to-hand contact.\\n\\nsymptoms\\nflu symptoms come on suddenly and affect the body all over. flu symptoms are usually more serious than a cold and include:\\n\\nfever (100° f),\\nheadache,\\nmore intense pain and fatigue, and\\nmore severe, often dry cough.\\nwhen you get the flu, you are also more prone to bronchitis, sinus, and ear infections. \\n\\ncold symptoms mostly affect above the neck and include:\\n\\na runny or stuffy nose (nasal congestion),\\nsneezing,\\nsore throat, and\\ncough. \\nyou may also experience a mild headache, body aches or a low grade fever. typically, a cold lasts 2-14 days.\\n\\ntreatment\\nif any problem is causing you discomfort, you should seek medical care.\\n\\nseek medical attention promptly if you have:\\n\\na fever of 102° f or greater (which may indicate a more serious infection),\\na persisting cough, especially with a significant fever (which could indicate pneumonia),\\na persistent sore throat (especially if runny nose does not develop - which could indicate a strep infection), or\\nany cold lasting more than 10 days.\\nbecause colds and flu are caused by viruses, they cannot be cured by antibiotics. there are tips to help you feel better and strengthen your immune system to fight illness:\\n\\nrest more than usual and avoid exercise until symptoms are gone.\\ndrink lots of clear fluids (e.g., water, tea).\\nstay away from cigarette smoke.\\ndo not take antibiotics unless specifically prescribed for you to cure the illness from which you currently suffer.\\navoid drinking alcohol because it weakens your immune system and may interact with medications.\\navoid caffeine, which can increase congestion and dehydration.\\neat a well-balanced diet, including fruits, vegetables, and grains.\\nmore specific remedies for comfort\\nrunny nose/congestion:\\ndecongestants (e.g. pseudoephedrine) can relieve a runny nose and congestion, but these medications can inhibit sleep and suppress appetite.\\nsalt water nasal sprays (e.g. nasal or ocean) can ease nasal congestion and thin mucus. however, excessive use of medicated nose sprays, like afrin, can cause dependence and may make congestion worse.\\nhumidifiers and hot showers can help to moisten nasal passages and clear mucus.\\ncough:\\ndextromethorphan is an effective cough suppressant, but because a cough is a protective reflex, it is not usually a bad thing. take dextromethorphan if your cough is interfering with sleep or work.\\nwater vapor from humidifiers and showers can help loosen the mucus causing a cough, as can chicken soup.\\nsore throat:\\nphenol in lozenges and sprays is an effective pain reliever for sore throats.\\ngargling with warm saltwater (1 tsp. salt in one cup of warm water) every four hours may help ease pain by reducing swollen tonsils.\\ndrinking tea with lemon (with or without honey).\\nfever/pain:\\nacetaminophen, aspirin, ibuprofen. if symptoms are severe, you may alternate acetaminophen and ibuprofen every two hours for pain or fever relief.\\nprevention\\nuhs offers flu shots to princeton students at a reduced cost every fall. even though getting a flu shot will not completely eliminate your chances of developing the flu, it will certainly reduce the risk. each year, a new vaccine made from inactivated (killed) influenza viruses is formulated. since it may take the immune system time to respond to the vaccination, the inactivated vaccine should be given 6 to 8 weeks before flu season begins in order to prevent infection or reduce the severity of the illness.\\n\\nthe flu is probably only contagious during the first three days of illness, and the incubation period is 24-72 hours, meaning you might not show symptoms for three days after contracting the virus. it is rare to catch a cold virus through the air – most transmission occurs via hand-to-hand contact. to prevent colds, flu, and other illnesses, follow these tips:\\n\\nwash your hands often (which is good advice for keeping healthy in any situation). keep them away from your nose, eyes, and mouth. use an instant hand sanitizer when you can’t wash your hands.\\nget regular exercise and eat well.\\nfollow good sleep habits.\\nget a flu shot each fall (offered to all students at a lower cost by uhs each fall) \\nconjunctivitis (“pink eye“)\\ncauses\\nconjunctivitis, an inflammation of the transparent membrane (conjunctiva) that lines your eyelids and part of your eyeballs, has several possible causes. it could be a bacterial or viral infection, an allergic reaction to pollen or animal dander, or a result of chemical irritants (smoke, chlorine, lens solution, etc.).\\n\\nsymptoms\\nthese symptoms may last a few hours to several weeks: redness, itching, tearing, burning sensation, pus-like discharge and/or crusting of the eyelids. because conjunctivitis causes inflammation of the small blood vessels in the conjunctiva to become more prominent, the whites of your eyes will appear pink or red. when you wake you are likely to feel that your eyelids are pasted shut, and your vision may not be as clear as usual.\\n\\ntreatment\\nbecause pink eye is highly contagious, early diagnosis is important. bacterial cases can be cured with antibiotic eye drops, viral conjunctivitis clears up on its own, and allergic reactions can be treated with various types of eye drops. here are some general tips:\\n\\nwash your hands frequently to prevent spreading an existing infection to your other eye, and to other people.\\ndon’t rub your eyes.\\nuse a cool wet washcloth to soak off any crusting.\\nuse a warm or cool compress to reduce discomfort.\\ndiscard eye make-up because it may cause future infection.\\nwash any clothing that may be contaminated, including towels and pillowcases. try to use clean towels and pillowcases everyday.\\navoid wearing contact lenses and discard current lenses.\\nif eye drops are prescribed, place drop in pocket formed by pulling down lower lid. make sure you don’t touch the bottle to the eye in order to prevent contamination.\\nif the infection does not improve in 2 or 3 days, make an appointment for re-evaluation.\\nprevention\\npink eye is extremely contagious, so if you know someone who is infected, make sure you do not expose yourself to contact with the person’s eye fluid. the infection can easily be passed via keyboards, doorknobs, make-up, pens, gym equipment, and a vast number of other items. to protect yourself, wash your hands frequently, avoid touching your eyes, and wash anything that may be contaminated.\\n\\ndiarrhea\\ncauses\\nbacterial infection, caused by contaminated food or water\\nviral infection\\nparasites, which can enter the body through food or water\\nfood intolerance, such as the inability to digest lactose, the sugar in milk\\noveruse of alcohol or laxatives\\nmedication, such as some antibiotics or antacids containing magnesium\\nmenstrual cramps\\nstress or a panic attack\\nsymptoms\\nwatery, loose stools\\nfrequent bowel movements\\ncramping or pain in the abdomen, nausea, bloating\\npossibly fever or bloody stools, depending on the cause\\ntreatment\\nusually diarrhea will clear up on its own in a day or two, but a prolonged case may cause complications. the most important concern is dehydration. if you have symptoms of dehydration, a fever above 102° f, bloody stools (black and tarry), severe abdomen or rectum pain, or diarrhea lasting more than 3 days you should consult a physician. here’s some advice for taking care of diarrhea yourself:\\n\\navoid foods that are milk-based, greasy, high-fiber, or very sweet because these are likely to aggravate diarrhea.\\navoid caffeine and alcohol.\\ndo not eat solid food if you have signs of dehydration (thirst, light-headed, dark urine). instead, drink about 2 cups of clear fluids per hour (if vomiting isn’t present), such as sports drinks and broth. water alone is not enough because your body needs sodium and sugar to replace what it’s losing.\\navoid high sugar drinks, like apple juice, grape juice, and soda, which can pull water into the intestine and make the diarrhea persist.\\ndon’t drink clear liquids exclusively for more than 24 hours.\\nbegin eating normal meals within 12 hours, but stick to food that is bland and won’t irritate your intestine. some doctors suggest the “brat“ diet which includes foods that are low in fiber, fat, and sugar. brat stands for bananas, rice, applesauce, and toast.\\nuse over-the-counter lactobacillus acidophilus capsules or tablets. these bacteria help maintain a healthy intestine, and are found in yogurt with live active cultures.\\ndecrease level of exercise until symptoms are gone.\\nover-the-counter drugs, such as imodium a-d, should only be used if absolutely necessary because it is important to let diarrhea flush out the bacteria or parasite that’s causing the infection.\\nheadaches\\neveryone suffers the occasional mild headache, but if you experience debilitating pain and/or abnormally frequent headaches, you probably want to find relief. there are countless causes of headaches, which differ for each person, so you’ll have to do some experimenting to figure out the cause of your pain. fortunately, the vast majority of headaches are primary headaches, not the result of underlying medical conditions. the three most common types are cluster, tension-type, and migraine.\\n\\na cluster headache affects a specific point of the head, often the eye, and is characterized by sharp, piercing pain. migraine and tension-type headaches are far more common. “tension“ headaches are now called “tension-type“ headaches because pain is not only caused by stress, but also poor posture, depression, and even sexual activity. in fact, recent studies have shown a connection between low serotonin levels and so-called “tension“ headaches.\\n\\ncauses\\nthe cause of a headache is often elusive. although it may seem that your head is pounding for no reason, there is always an explanation for pain. to find out the cause of your headaches, keep a log. write down the date and time each headache starts and stops, the location of the pain, the nature and severity of the pain, and any factors that seem to trigger the headaches (food, stress, menstrual cycle, medicine, etc.).\\n\\nsome of the many causes of headaches:\\n\\nemotional and physical stress\\nfatigue\\nirregular sleep habits (sleeping too much or too little)\\nskipping meals\\ncaffeine use or withdrawal\\nhormonal factors, such as menstruation\\nmonosodium glutamate (msg)\\nfoods with nitrates, such as hot dogs\\nalcohol\\nsome medicines\\ncertain foods, including red wine, chocolate, aged cheeses, pickled foods, nuts, and aspartame\\nchanges in weather, altitude, or time zone\\nsymptoms\\njust as the causes vary for each headache sufferer, so do the symptoms and severity of pain. health professionals can often diagnose the type of headache you suffer based on your symptoms.\\n\\nsymptoms of a migraine:\\n\\npulsing or throbbing quality\\nbegins with intense pain on one side of the head, which eventually spreads\\nfelt on one or both sides of the head\\nlasts several hours\\nsevere enough to interfere with routine activities\\nmay be accompanied by nausea or vomiting\\nsometimes preceded by visual changes, such as an aura of zigzag lines or flashes of light\\nlight and noise can make the headache worse, while sleep tends to relieve symptoms\\nsymptoms of a tension-type headache:\\n\\nconstant, dull ache\\nfelt on both sides of the head\\na feeling of squeezing or pressure\\ndoes not usually interfere with routine activities\\nlasts from 30 minutes to a few days\\ntreatment\\nice pack held over the eyes or forehead\\nheating pad set on low or hot shower to relax tense neck and shoulder muscles\\nsleep, or at least resting in a dark room\\ntaking breaks from stressful situations\\nregular exercise to increase endorphin levels and relax muscles. even if you already have a headache, exercising may relieve the pain. however, intense exercise may bring on a headache.\\noccasional use of over-the-counter medicines such as acetaminophen, ibuprofen, or aspirin can relieve both migraine and tension headaches. *\\nprescription drugs for severe headaches\\n* overuse of pain medicine can actually result in more frequent headaches. most pain-relieving medicines used to treat headaches can cause “analgesic rebound headaches“ if used too often.\\n\\nprevention\\nbe aware of early symptoms so you can try to stop the headache as soon as it begins.\\ndon’t smoke, and if you do, quit.\\ndon’t skip meals.\\ncut down on caffeine and alcohol (reduce caffeine intake gradually because withdrawal may cause headaches).\\nstop all over-the-counter medicines and herbal remedies.\\nmaintain a regular eating and sleeping schedule.\\nexercise regularly.\\nincorporate relaxation activities into your daily routine, such as meditation, yoga, stretching exercises, and massage\\nimprove your posture, possibly by adjusting your workstation.\\nwhen should i see a health care provider?\\nalthough most headaches do not signal underlying medical problems, if your headaches change in nature or location, or become more severe, frequent, and/or intense, you should consult your health care provider.\\n\\nseek immediate medical attention if your headaches…\\n\\nbecome increasingly worse, and are most painful early in the morning while you are still in bed.\\noccur three or more times a week.\\nbegin to be accompanied by nausea or vomiting.\\noccur after a head injury, especially if they get worse.\\nseem to be triggered by physical exertion, such as exercise, sexual activity, or coughing.\\noccur along with green or brown nasal drainage and sinus pain over the cheeks or around the eyes.\\nare accompanied by dizziness, difficulty speaking, vision loss, or numbness in an arm, leg, or parts of the face.\\ndevelop suddenly, accompanied by a fever over 101°f and are not relieved by acetaminophen or aspirin, especially if there is pain or stiffness in the neck.\\nmononucleosis\\ncause\\nmononucleosis is an illness caused by the epstein-barr virus (ebv), which is spread through saliva.\\n\\nsymptoms\\nthe most well known symptom of “mono“ is extreme fatigue, forcing the infected person to nap frequently. if you experience such extreme fatigue accompanied by other symptoms, such as swollen lymph glands and spleen, sore throat, fever, loss of appetite, and muscle aches, you may want to get tested for mono. the basis for testing whether you have mono is the presence of antibodies produced by white blood cells. many people infected with mono don’t get sick, or have such mild symptoms they don’t know they have it. ebv is usually in the body 30-50 days before an infected person develops symptoms. surprisingly, 80-95% of adults in the us have been infected by the time they’re 40, but only about 20% know they’ve had mono.\\n\\ntreatment\\nmono is a virus, so antibiotics won’t help. make sure you get plenty of rest, eat healthy foods, avoid alcohol (because your liver may be inflamed and drinking weakens immune responses), drink plenty of fluids, take aspirin or an aspirin substitute to reduce pain and fever, gargle salt water to relieve sore throat, and avoid strenuous activity. because your spleen may be swollen, it is important not to engage in contact sports which could rupture your spleen. returning to normal activity too quickly increases your chances of relapse.\\n\\nprevention\\navoiding someone with mono can be hard because infected individuals often do not show symptoms. because the incubation period is so long, a person can be contagious 1-2 months before showing any symptoms, and some people don’t show symptoms at all. even after signs of mono have disappeared, a person may still be producing the virus. a strong immune system, maintained by healthy diet, exercise, and adequate sleep, can help you from getting ill. fortunately, mono is not very contagious, and is usually only passed through intimate contact, such as kissing. [top]\\n\\nstomach aches\\nintestinal gas\\nit’s natural to have gas in your digestive tract, and to pass gas regularly. in fact, everyone passes gas at least 12 times a day, which is a combination of oxygen, hydrogen, nitrogen, carbon dioxide, and methane. the unpleasant odor of flatus is cause by gases (e.g. hydrogen sulfide) produced by the bacteria in the large intestine. even though it’s natural to have gas in your digestive tract, excessive gas can cause intense, temporary pain. people who suffer discomfort from gas in the intestine report abdominal bloating, flatulence, and jabbing pains or cramps in the abdomen. intestinal gas can mimic the pain associated with real illnesses, like gallbladder disease, heart disease, and appendicitis, but be aware that it can also signal other illnesses, such as stomach flu or food poisoning.\\n\\nthe best treatment for gas focuses on the cause. although there are several over-the-counter medications that advertise gas relief, they do not work for everyone and may have side effects. medications that have been shown to effectively reduce gas use simethicone, a substance that helps gas be expelled through belching or passing flatus (it does not make gas dissolve or disappear). activated charcoal preparations may also be helpful. while these medications are good for short-term immediate relief, the best step for long-term comfort is to find out what causes you gas.\\n\\nthere are two general causes of gas: swallowed air and the breakdown of undigested foods by harmless bacteria in the large intestine. everyone swallows air when they eat and drink, but these activities are likely to increase the amount ingested:\\n\\neating or drinking rapidly\\ndrinking through a straw\\nchewing gum or eating hard candy\\nsmoking\\nfood triggers vary from person to person, but the types of food that seem to cause the most problems are those that are high in fiber or lactose. foods that may cause gas include:\\n\\nbeans\\npeas\\nlentils\\ncabbage\\nbroccoli\\nbrussels sprouts\\nmilk products (if you lack adequate amounts of the enzyme lactase)\\nonions\\nwheat\\ncarbonated beverages\\nsorbitol (artificial sweetener) and fructose (found in corn syrup)\\nto prevent gas:\\n\\navoid foods that trigger gas.\\navoid swallowing excess air by not chewing gum or eating hard candy.\\ntake digestive enzyme supplements, such as beano (for high-fiber foods) and lactase supplements (for milk products).\\neat only small amounts of dairy products with food, if you suspect lactose intolerance.\\neat several small meals throughout the day instead of two or three larger ones.\\neat slowly, in a relaxed setting, and chew your food thoroughly.\\ntake a stroll after meals. don’t sit in a slumped position or lie down after eating.\\nif increasing the fiber in your diet, do so gradually\\nexercise to facilitate the passage of gas through the digestive tract.\\nnausea and vomiting\\npossible causes for nausea and/or vomiting:\\n\\nviruses in the intestines (viral gastroenteritis, see below)\\nsome medications, such as certain antibiotics and birth control pills\\neating too much or eating spoiled food\\ndrinking too much (e.g. alcohol)\\nmotion sickness\\nmorning sickness in pregnant females\\nmedical conditions that cause vomiting:\\n\\nlabrynthitis – inflammation of an area in the ear that usually results from an upper respiratory infection\\nconcussion from a head injury\\nstomach ulcers\\nhepatitis (inflammation of the liver)\\nmeningitis (inflammation of the membranes that cover the brain and spinal cord)\\ngastroenteritis, a.k.a. “stomach flu,“ is an inflammation of the intestines that can be caused by viruses, parasites, bacteria, food allergies, overuse of alcohol, and psychological reactions. viruses that cause gastroenteritis can enter the intestine from contaminated food or water, or through contact with an infected person. many different viruses can infect the intestine, but the signs and symptoms of gastroenteritis are generally the same: abdominal cramps, watery diarrhea and nausea and/or vomiting. symptoms of gastroenteritis can develop anywhere from a few hours to a few days after contamination. most cases resolve within a couple days without specific treatment, but some may last for up to 10 days. in addition to avoiding food and water that might be contaminated, you should wash your hands thoroughly and frequently (especially because viruses often enter the body through the fecal-oral route, when people do not wash their hands thoroughly after bowel movements). because stomach flu is contagious, avoid sharing eating utensils, drinks, towels, and other objects that may transmit the virus from one person to another.\\n\\nthe biggest health risk posed by gastroenteritis is dehydration. if you exhibit signs of dehydration, including extreme thirst, dry mouth, dark urine, dizziness, and severe weakness, get medical help immediately. if you cannot replace lost fluids through sipping clear liquids, you may need intravenous fluids and hospitalization.\\n\\nself-care tips for vomiting:\\n\\nwait 30-60 minutes after vomiting before drinking anything to let your stomach settle.\\ndon’t eat solid foods. don’t drink milk.\\ndrink clear liquids, taking small sips. stir any carbonated beverages to get all the bubbles out before sipping them. suck on ice chips if nothing else will stay down.\\ngradually return to regular diet, but wait about 8 hours from the last time you vomited. start with foods like dry toast, crackers, rice, and other foods that are easy to digest.\\navoid substances that irritate the stomach, like alcohol, aspirin, and fried foods.\\navoid diuretics, like caffeine and alcohol, that contribute to fluid loss.\\nfor nausea without vomiting:\\n\\ndrink clear liquids. eat small amounts of dry foods, such as soda crackers, if tolerated.\\navoid things that irritate the stomach, such as alcohol, aspirin, spicy, and fried foods.\\nfor motion sickness, use an over-the-counter anti-nausea medicine, such as dramamine.\\nwhen should i see a health care provider?\\nif you can’t keep liquids down for more than 24 hours\\nif you have blood in vomit or stools\\nif you’re vomiting for more than 1 day\\nif you have signs of dehydration (dry mouth, dark urine, dizziness, etc.)\\nif you have a fever of more than 100° f\\nif vomiting is accompanied by a sore neck and severe headache\\n\\n\\n\\n\\nasthma\\nasthma is a chronic lung disease. common symptoms are wheezing, coughing, chest tightness, and shortness of breath. during an asthma attack, the sides of the airways in lungs swell and the airways shrink, making it harder to breathe.\\n\\nautism\\nautism, also known as autism spectrum disorder, is a broad range of conditions that affect communication and behavior, usually appearing by age 2. the centers for disease control and prevention (cdc) reports that autism affects 1 in 44 children.\\n\\nautoimmune diseases\\na healthy immune system defends the body against disease and infection. but if the immune system malfunctions, it mistakenly attacks healthy cells, tissues, and organs. called autoimmune disease, these attacks can affect any part of the body, weakening bodily function and even turning life-threatening.\\n\\nbreast cancer\\napproximately 1 in 8 women in the u.s. develop breast cancer each year. most women who develop breast cancer have no family history of the disease, suggesting an environmental link.\\n\\ninflammation\\ninflammation is a normal part of the body’s defense to injury or infection, and, in this way, it is beneficial. but inflammation is damaging when it occurs in healthy tissues or lasts too long.\\n\\nkidney disease\\nan epidemic of chronic kidney disease has emerged that cannot be explained by traditional or known risk factors. known as ckdu, this disease is a progressive and fatal loss of kidney function. it is found mostly among agricultural workers in hot, humid regions.\\n\\nlung diseases\\nlung disease refers to several types of diseases or disorders that prevent the lungs from functioning properly. lung disease can affect respiratory function, or the ability to breathe, and pulmonary function, which is how well lungs work.\\n\\nobesity\\nobesity is a chronic disease that affects more than 30% adults and about 17% of children and adolescents in the united states. obesity results from a combination of genetic susceptibility, biological pathways related to metabolism and body weight regulation, and environmental factors.\\n\\nparkinson's disease\\nthe national institute of environmental health sciences (niehs) is one of the lead research agencies studying the environmental causes of parkinson's disease | parkinson's is a neurodegenerative disease thought to be caused by the interaction of genes and environment.\\n\\nreproductive health\\nreproductive health refers to the condition of male and female reproductive systems during all life stages. these systems are made of organs and hormone-producing glands, including the pituitary gland in the brain. ovaries in females and testicles in males are reproductive organs, or gonads, that maintain health of their respective systems. they also function as glands because they produce and release hormones.\\n\\n\\nacne\\nwhat is acne? it is caused when blocked skin follicles from a plug caused by oil from glands, bacteria, and dead cells clump together and swell.\\nalopecia areata\\nwhat is alopecia areata? it is a condition that attacks your hair follicles (they make hair). in most cases, hair falls out in small, round patches.\\nankylosing spondylitis\\nwhat is ankylosing spondylitis? it is arthritis that affects the spine, usually producing redness, heat, swelling, and pain in the spine where it joins the pelvis.\\narthritis\\narthritis is joint inflammation that can cause stiffness or pain. learn more about the symptoms & treatments.\\natopic dermatitis\\nwhat is atopic dermatitis? it is a skin disease causing much itchiness. scratching leads to redness, swelling, cracking, weeping clear fluid, crusting, and scaling.\\nautoimmune diseases\\nin autoimmune diseases, proteins known as autoantibodies target the body’s own healthy tissues by mistake, signaling the body to attack them.\\nautoinflammatory diseases\\nwhat are autoinflammatory diseases? they cause your immune cells to attack your body by mistake, and can cause fever, rash, joint swelling, and more.   \\n\\n\\nback pain\\nback pain is one of the most common medical problems in the united states. it can range from a dull, constant ache to sudden, sharp pain that makes it hard to move.\\nbone health and osteoporosis\\nwhy does bone health matter? learn more about what you can do to help keep your bones strong and healthy, what the risk factors are for osteoporosis, and how to live well if you have osteoporosis.\\nbone health and osteoporosis: what it means to you\\nthis resource contains information about osteoporosis and how you can help keep your bones strong.\\nbone mineral density tests: what the numbers mean\\nwhat is a bone mineral density test? a bone mineral density test measures calcium and other minerals in bone. bones containing more minerals are denser, so they tend to be stronger and less likely to break.\\n\\n\\n\\n\\n\\n\\n\\n\\n\\n\\n\\n\\n\\n\\n\\n\\n\\n\\n\\n\\n\\n\\n\\n\\n\\n\\n\\n\\n\\n\\n\\n\\n\\n\""
            ],
            "application/vnd.google.colaboratory.intrinsic+json": {
              "type": "string"
            }
          },
          "metadata": {},
          "execution_count": 6
        }
      ]
    },
    {
      "cell_type": "code",
      "source": [
        "sentence_tokens = nltk.sent_tokenize(raw_doc)\n",
        "word_tokens = nltk.word_tokenize(raw_doc)"
      ],
      "metadata": {
        "id": "dgJEaTWNvGW_"
      },
      "execution_count": 7,
      "outputs": []
    },
    {
      "cell_type": "code",
      "source": [
        "sentence_tokens [:5]"
      ],
      "metadata": {
        "colab": {
          "base_uri": "https://localhost:8080/"
        },
        "id": "2-CwOE36vGzP",
        "outputId": "3a82398b-0fc6-474c-b13e-324b6844dc44"
      },
      "execution_count": 8,
      "outputs": [
        {
          "output_type": "execute_result",
          "data": {
            "text/plain": [
              "['allergies\\nallergies are an immune response triggered by allergens, an ordinarily harmful substance.',\n",
              " 'causes\\npeople with allergies have especially sensitive immune systems that react when they contact allergens.',\n",
              " 'common allergens include:\\n\\nfoods (nuts, eggs, milk, soy, shellfish, wheat)\\npollen\\nmold\\nlatex\\npet dander\\nsymptoms\\nbecause there are so many possible causes, the symptoms of allergies vary widely.',\n",
              " 'airborne allergens, like pollen and pet dander, are likely to cause:\\n\\neye irritation\\nrunny nose\\nstuffy nose\\npuffy, watery eyes\\nsneezing\\ninflamed, itchy nose and throat\\nallergens that are consumed, like foods or certain medications, can cause:\\n\\nhives or skin rashes\\ngastrointestinal distress (diarrhea, nausea, vomiting, excessing gas, indigestion)\\ntingling or swelling of the lips, face, or tongue\\nitchiness\\ndifficulty breathing or wheezing\\nfainting/ or lightheadedness\\nin cases of a more extreme response, called anaphylaxis, symptoms are severe and life-threatening.',\n",
              " 'treatment\\nthe easiest and most effective way to treat allergies is to get rid of or avoid the cause.']"
            ]
          },
          "metadata": {},
          "execution_count": 8
        }
      ]
    },
    {
      "cell_type": "code",
      "source": [
        "word_tokens [:5]"
      ],
      "metadata": {
        "colab": {
          "base_uri": "https://localhost:8080/"
        },
        "id": "cSqodb3QvG3g",
        "outputId": "8788342b-740e-469b-f0f3-c690028d1f51"
      },
      "execution_count": 9,
      "outputs": [
        {
          "output_type": "execute_result",
          "data": {
            "text/plain": [
              "['allergies', 'allergies', 'are', 'an', 'immune']"
            ]
          },
          "metadata": {},
          "execution_count": 9
        }
      ]
    },
    {
      "cell_type": "code",
      "source": [
        "lemmer = nltk.stem.WordNetLemmatizer()\n",
        "def LemTokens(tokens):\n",
        "  return [lemmer.lemmatize(token) for token in tokens]\n",
        "remove_punc_dict = dict((ord(punct), None) for punct in string.punctuation)\n",
        "\n",
        "def LemNormalize(text):\n",
        "  return LemTokens(nltk.word_tokenize(text.lower().translate(remove_punc_dict)))"
      ],
      "metadata": {
        "id": "2IoMwZ3LvG6K"
      },
      "execution_count": 10,
      "outputs": []
    },
    {
      "cell_type": "code",
      "source": [
        "greet_inputs = (\"hi\", 'hello', 'good morning', 'good noon', 'good afternoon')\n",
        "greet_responses = ('hello', 'hi', 'hello there')\n",
        "\n",
        "def greet(sentence):\n",
        "  for word in sentence.split():\n",
        "    if word.lower() in greet_inputs:\n",
        "      return random.choice(greet_responses)"
      ],
      "metadata": {
        "id": "mdAXH8oKvqIr"
      },
      "execution_count": 11,
      "outputs": []
    },
    {
      "cell_type": "code",
      "source": [
        "pip install scikit-learn==0.13"
      ],
      "metadata": {
        "colab": {
          "base_uri": "https://localhost:8080/"
        },
        "id": "fwgDe11BYthK",
        "outputId": "b5e00298-7e80-4273-c5b7-f9a3142c2873"
      },
      "execution_count": 12,
      "outputs": [
        {
          "output_type": "stream",
          "name": "stdout",
          "text": [
            "Collecting scikit-learn==0.13\n",
            "  Downloading scikit-learn-0.13.tar.gz (3.5 MB)\n",
            "\u001b[2K     \u001b[90m━━━━━━━━━━━━━━━━━━━━━━━━━━━━━━━━━━━━━━━━\u001b[0m \u001b[32m3.5/3.5 MB\u001b[0m \u001b[31m22.5 MB/s\u001b[0m eta \u001b[36m0:00:00\u001b[0m\n",
            "\u001b[?25h  Preparing metadata (setup.py) ... \u001b[?25l\u001b[?25hdone\n",
            "Building wheels for collected packages: scikit-learn\n",
            "  \u001b[1;31merror\u001b[0m: \u001b[1msubprocess-exited-with-error\u001b[0m\n",
            "  \n",
            "  \u001b[31m×\u001b[0m \u001b[32mpython setup.py bdist_wheel\u001b[0m did not run successfully.\n",
            "  \u001b[31m│\u001b[0m exit code: \u001b[1;36m1\u001b[0m\n",
            "  \u001b[31m╰─>\u001b[0m See above for output.\n",
            "  \n",
            "  \u001b[1;35mnote\u001b[0m: This error originates from a subprocess, and is likely not a problem with pip.\n",
            "  Building wheel for scikit-learn (setup.py) ... \u001b[?25lerror\n",
            "\u001b[31m  ERROR: Failed building wheel for scikit-learn\u001b[0m\u001b[31m\n",
            "\u001b[0m\u001b[?25h  Running setup.py clean for scikit-learn\n",
            "Failed to build scikit-learn\n",
            "\u001b[31mERROR: Could not build wheels for scikit-learn, which is required to install pyproject.toml-based projects\u001b[0m\u001b[31m\n",
            "\u001b[0m"
          ]
        }
      ]
    },
    {
      "cell_type": "code",
      "source": [
        "from sklearn.feature_extraction.text import TfidfVectorizer\n",
        "from sklearn.metrics.pairwise import cosine_similarity"
      ],
      "metadata": {
        "id": "F3ZDtFtBvqLV"
      },
      "execution_count": 13,
      "outputs": []
    },
    {
      "cell_type": "code",
      "source": [
        "def response(user_response):\n",
        "    robo1_response = ''\n",
        "    TfidfVec = TfidfVectorizer(tokenizer=LemNormalize, stop_words='english')\n",
        "    tfidf = TfidfVec.fit_transform(sentence_tokens)\n",
        "\n",
        "    # Convert tfidf[-1] to a 2D array\n",
        "    tfidf_user = TfidfVec.transform([user_response])\n",
        "\n",
        "    vals = cosine_similarity(tfidf_user, tfidf)\n",
        "    idx = vals.flatten()\n",
        "    flat = vals.flatten()\n",
        "    flat.sort()\n",
        "    req_tfidf = flat[-2]\n",
        "\n",
        "    if (req_tfidf == 0):\n",
        "        robo1_response = robo1_response + \"I am sorry. I am unable to understand. Please clarify!\"\n",
        "        return robo1_response\n",
        "    else:\n",
        "        # Use the index to get the sentence from sentence_tokens\n",
        "        robo1_response = robo1_response + sentence_tokens[np.where(vals == req_tfidf)[1][0]]\n",
        "        return robo1_response\n"
      ],
      "metadata": {
        "id": "NnvLoHTFvqNf"
      },
      "execution_count": 14,
      "outputs": []
    },
    {
      "cell_type": "code",
      "source": [
        "flag = True\n",
        "print('Hello! This is your HealthBot. Tell me your queries after Greeting. Once you are done, do not forget to say bye!')\n",
        "while(flag == True):\n",
        "  user_response = input()\n",
        "  user_response = user_response.lower()\n",
        "  if(user_response != 'bye'):\n",
        "    if(user_response == 'thank you' or user_response == 'thanks'):\n",
        "      flag = False\n",
        "      print('Bot: You are welcome!')\n",
        "    else:\n",
        "      if(greet(user_response) != None):\n",
        "        print('Bot: ' + greet(user_response))\n",
        "      else:\n",
        "        sentence_tokens.append(user_response)\n",
        "        word_tokens = word_tokens + nltk.word_tokenize(user_response)\n",
        "        final_words = list(set(word_tokens))\n",
        "        print('Bot:', end = '')\n",
        "        print(response(user_response))\n",
        "        sentence_tokens.remove(user_response)\n",
        "  else:\n",
        "    flag = False\n",
        "    print('Bot: Goodbye!')\n"
      ],
      "metadata": {
        "colab": {
          "base_uri": "https://localhost:8080/"
        },
        "id": "H3Y5fG1DcACA",
        "outputId": "27b1d13e-09c7-4645-89dc-ddfc36723c46"
      },
      "execution_count": 15,
      "outputs": [
        {
          "output_type": "stream",
          "name": "stdout",
          "text": [
            "Hello! This is your HealthBot. Tell me your queries after Greeting. Once you are done, do not forget to say bye!\n",
            "hi\n",
            "Bot: hi\n",
            "how are you\n",
            "Bot:"
          ]
        },
        {
          "output_type": "stream",
          "name": "stderr",
          "text": [
            "/usr/local/lib/python3.10/dist-packages/sklearn/feature_extraction/text.py:528: UserWarning: The parameter 'token_pattern' will not be used since 'tokenizer' is not None'\n",
            "  warnings.warn(\n",
            "/usr/local/lib/python3.10/dist-packages/sklearn/feature_extraction/text.py:409: UserWarning: Your stop_words may be inconsistent with your preprocessing. Tokenizing the stop words generated tokens ['ha', 'le', 'u', 'wa'] not in stop_words.\n",
            "  warnings.warn(\n"
          ]
        },
        {
          "output_type": "stream",
          "name": "stdout",
          "text": [
            "I am sorry. I am unable to understand. Please clarify!\n",
            "i have a bad headache\n",
            "Bot:headaches\n",
            "everyone suffers the occasional mild headache, but if you experience debilitating pain and/or abnormally frequent headaches, you probably want to find relief.\n",
            "should i take medicine?\n",
            "Bot:stop all over-the-counter medicines and herbal remedies.\n",
            "i keep sneezing and vomiting\n",
            "Bot:self-care tips for vomiting:\n",
            "\n",
            "wait 30-60 minutes after vomiting before drinking anything to let your stomach settle.\n",
            "ok\n",
            "Bot:I am sorry. I am unable to understand. Please clarify!\n",
            "bye\n",
            "Bot: Goodbye!\n"
          ]
        }
      ]
    },
    {
      "cell_type": "code",
      "source": [],
      "metadata": {
        "id": "SClzZuewvG92"
      },
      "execution_count": null,
      "outputs": []
    }
  ]
}